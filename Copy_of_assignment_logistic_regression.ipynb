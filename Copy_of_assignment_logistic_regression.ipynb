{
  "nbformat": 4,
  "nbformat_minor": 0,
  "metadata": {
    "colab": {
      "provenance": [],
      "include_colab_link": true
    },
    "kernelspec": {
      "name": "python3",
      "display_name": "Python 3"
    },
    "language_info": {
      "name": "python"
    }
  },
  "cells": [
    {
      "cell_type": "markdown",
      "metadata": {
        "id": "view-in-github",
        "colab_type": "text"
      },
      "source": [
        "<a href=\"https://colab.research.google.com/github/mithinKumar/Machine-Learning-Learners-Space/blob/main/Copy_of_assignment_logistic_regression.ipynb\" target=\"_parent\"><img src=\"https://colab.research.google.com/assets/colab-badge.svg\" alt=\"Open In Colab\"/></a>"
      ]
    },
    {
      "cell_type": "markdown",
      "source": [
        "##ASSIGNMENT\n",
        "#Dataset\n",
        "Assume you are a scientist who is trying to make a propellent and is trying many tests to make an efficient propellent .\n",
        "<br>\n",
        "You have performed two tests.\n",
        "<br>\n",
        "From the two tests you would like whether this propellent works efficiently or not.\n",
        "Build your own logistic regression model to decide .\n",
        "<br>\n",
        "Text with \"DO NOT EDIT THIS CODE\" needs to be only run do not edit it\n"
      ],
      "metadata": {
        "id": "wNEUsAHHCGk2"
      }
    },
    {
      "cell_type": "code",
      "execution_count": 1,
      "metadata": {
        "id": "xJm_XXJo4RDg"
      },
      "outputs": [],
      "source": [
        "import numpy as np\n",
        "import pandas as pd\n",
        "import matplotlib.pyplot as plt"
      ]
    },
    {
      "cell_type": "code",
      "source": [
        "#load data\n",
        "from google.colab import files\n",
        "uploaded = files.upload()\n",
        "\n",
        "data=np.loadtxt(\"data.txt\", delimiter=',')\n",
        "X=data[:,:2]\n",
        "y=data[:,2]\n",
        "X_train=X\n",
        "y_train=y"
      ],
      "metadata": {
        "id": "YtL0jW6m4e1A",
        "colab": {
          "base_uri": "https://localhost:8080/",
          "height": 73
        },
        "outputId": "cc4309b3-fece-40f5-af76-4ac116e75239"
      },
      "execution_count": 2,
      "outputs": [
        {
          "output_type": "display_data",
          "data": {
            "text/plain": [
              "<IPython.core.display.HTML object>"
            ],
            "text/html": [
              "\n",
              "     <input type=\"file\" id=\"files-51f44e15-f438-4cfb-a99a-1f094d02fb9b\" name=\"files[]\" multiple disabled\n",
              "        style=\"border:none\" />\n",
              "     <output id=\"result-51f44e15-f438-4cfb-a99a-1f094d02fb9b\">\n",
              "      Upload widget is only available when the cell has been executed in the\n",
              "      current browser session. Please rerun this cell to enable.\n",
              "      </output>\n",
              "      <script>// Copyright 2017 Google LLC\n",
              "//\n",
              "// Licensed under the Apache License, Version 2.0 (the \"License\");\n",
              "// you may not use this file except in compliance with the License.\n",
              "// You may obtain a copy of the License at\n",
              "//\n",
              "//      http://www.apache.org/licenses/LICENSE-2.0\n",
              "//\n",
              "// Unless required by applicable law or agreed to in writing, software\n",
              "// distributed under the License is distributed on an \"AS IS\" BASIS,\n",
              "// WITHOUT WARRANTIES OR CONDITIONS OF ANY KIND, either express or implied.\n",
              "// See the License for the specific language governing permissions and\n",
              "// limitations under the License.\n",
              "\n",
              "/**\n",
              " * @fileoverview Helpers for google.colab Python module.\n",
              " */\n",
              "(function(scope) {\n",
              "function span(text, styleAttributes = {}) {\n",
              "  const element = document.createElement('span');\n",
              "  element.textContent = text;\n",
              "  for (const key of Object.keys(styleAttributes)) {\n",
              "    element.style[key] = styleAttributes[key];\n",
              "  }\n",
              "  return element;\n",
              "}\n",
              "\n",
              "// Max number of bytes which will be uploaded at a time.\n",
              "const MAX_PAYLOAD_SIZE = 100 * 1024;\n",
              "\n",
              "function _uploadFiles(inputId, outputId) {\n",
              "  const steps = uploadFilesStep(inputId, outputId);\n",
              "  const outputElement = document.getElementById(outputId);\n",
              "  // Cache steps on the outputElement to make it available for the next call\n",
              "  // to uploadFilesContinue from Python.\n",
              "  outputElement.steps = steps;\n",
              "\n",
              "  return _uploadFilesContinue(outputId);\n",
              "}\n",
              "\n",
              "// This is roughly an async generator (not supported in the browser yet),\n",
              "// where there are multiple asynchronous steps and the Python side is going\n",
              "// to poll for completion of each step.\n",
              "// This uses a Promise to block the python side on completion of each step,\n",
              "// then passes the result of the previous step as the input to the next step.\n",
              "function _uploadFilesContinue(outputId) {\n",
              "  const outputElement = document.getElementById(outputId);\n",
              "  const steps = outputElement.steps;\n",
              "\n",
              "  const next = steps.next(outputElement.lastPromiseValue);\n",
              "  return Promise.resolve(next.value.promise).then((value) => {\n",
              "    // Cache the last promise value to make it available to the next\n",
              "    // step of the generator.\n",
              "    outputElement.lastPromiseValue = value;\n",
              "    return next.value.response;\n",
              "  });\n",
              "}\n",
              "\n",
              "/**\n",
              " * Generator function which is called between each async step of the upload\n",
              " * process.\n",
              " * @param {string} inputId Element ID of the input file picker element.\n",
              " * @param {string} outputId Element ID of the output display.\n",
              " * @return {!Iterable<!Object>} Iterable of next steps.\n",
              " */\n",
              "function* uploadFilesStep(inputId, outputId) {\n",
              "  const inputElement = document.getElementById(inputId);\n",
              "  inputElement.disabled = false;\n",
              "\n",
              "  const outputElement = document.getElementById(outputId);\n",
              "  outputElement.innerHTML = '';\n",
              "\n",
              "  const pickedPromise = new Promise((resolve) => {\n",
              "    inputElement.addEventListener('change', (e) => {\n",
              "      resolve(e.target.files);\n",
              "    });\n",
              "  });\n",
              "\n",
              "  const cancel = document.createElement('button');\n",
              "  inputElement.parentElement.appendChild(cancel);\n",
              "  cancel.textContent = 'Cancel upload';\n",
              "  const cancelPromise = new Promise((resolve) => {\n",
              "    cancel.onclick = () => {\n",
              "      resolve(null);\n",
              "    };\n",
              "  });\n",
              "\n",
              "  // Wait for the user to pick the files.\n",
              "  const files = yield {\n",
              "    promise: Promise.race([pickedPromise, cancelPromise]),\n",
              "    response: {\n",
              "      action: 'starting',\n",
              "    }\n",
              "  };\n",
              "\n",
              "  cancel.remove();\n",
              "\n",
              "  // Disable the input element since further picks are not allowed.\n",
              "  inputElement.disabled = true;\n",
              "\n",
              "  if (!files) {\n",
              "    return {\n",
              "      response: {\n",
              "        action: 'complete',\n",
              "      }\n",
              "    };\n",
              "  }\n",
              "\n",
              "  for (const file of files) {\n",
              "    const li = document.createElement('li');\n",
              "    li.append(span(file.name, {fontWeight: 'bold'}));\n",
              "    li.append(span(\n",
              "        `(${file.type || 'n/a'}) - ${file.size} bytes, ` +\n",
              "        `last modified: ${\n",
              "            file.lastModifiedDate ? file.lastModifiedDate.toLocaleDateString() :\n",
              "                                    'n/a'} - `));\n",
              "    const percent = span('0% done');\n",
              "    li.appendChild(percent);\n",
              "\n",
              "    outputElement.appendChild(li);\n",
              "\n",
              "    const fileDataPromise = new Promise((resolve) => {\n",
              "      const reader = new FileReader();\n",
              "      reader.onload = (e) => {\n",
              "        resolve(e.target.result);\n",
              "      };\n",
              "      reader.readAsArrayBuffer(file);\n",
              "    });\n",
              "    // Wait for the data to be ready.\n",
              "    let fileData = yield {\n",
              "      promise: fileDataPromise,\n",
              "      response: {\n",
              "        action: 'continue',\n",
              "      }\n",
              "    };\n",
              "\n",
              "    // Use a chunked sending to avoid message size limits. See b/62115660.\n",
              "    let position = 0;\n",
              "    do {\n",
              "      const length = Math.min(fileData.byteLength - position, MAX_PAYLOAD_SIZE);\n",
              "      const chunk = new Uint8Array(fileData, position, length);\n",
              "      position += length;\n",
              "\n",
              "      const base64 = btoa(String.fromCharCode.apply(null, chunk));\n",
              "      yield {\n",
              "        response: {\n",
              "          action: 'append',\n",
              "          file: file.name,\n",
              "          data: base64,\n",
              "        },\n",
              "      };\n",
              "\n",
              "      let percentDone = fileData.byteLength === 0 ?\n",
              "          100 :\n",
              "          Math.round((position / fileData.byteLength) * 100);\n",
              "      percent.textContent = `${percentDone}% done`;\n",
              "\n",
              "    } while (position < fileData.byteLength);\n",
              "  }\n",
              "\n",
              "  // All done.\n",
              "  yield {\n",
              "    response: {\n",
              "      action: 'complete',\n",
              "    }\n",
              "  };\n",
              "}\n",
              "\n",
              "scope.google = scope.google || {};\n",
              "scope.google.colab = scope.google.colab || {};\n",
              "scope.google.colab._files = {\n",
              "  _uploadFiles,\n",
              "  _uploadFilesContinue,\n",
              "};\n",
              "})(self);\n",
              "</script> "
            ]
          },
          "metadata": {}
        },
        {
          "output_type": "stream",
          "name": "stdout",
          "text": [
            "Saving data.txt to data.txt\n"
          ]
        }
      ]
    },
    {
      "cell_type": "code",
      "source": [
        "#plot data to visualise\n",
        "def plot_data(X,y,positive_label=\"y=1\", negative_label=\"y=0\"):\n",
        "#positive_label and negative_label refers to classes of y as y can be 0 or 1\n",
        "    positive = y == 1\n",
        "    negative = y == 0\n",
        "    plt.plot(X[positive, 0], X[positive, 1], 'k+', label=positive_label)\n",
        "    plt.plot(X[negative, 0], X[negative, 1], 'yo', label=negative_label)\n",
        "#While plotting graph the label parameter will be either positive_label or negative_label so plot both the labels for"
      ],
      "metadata": {
        "id": "Bk2qYHyk4mNm"
      },
      "execution_count": 3,
      "outputs": []
    },
    {
      "cell_type": "code",
      "source": [
        "#test\n",
        "plot_data(X_train, y_train[:], positive_label=\"Accepted\", negative_label=\"Rejected\")\n",
        "\n",
        "\n",
        "plt.xlabel('Test 2')\n",
        "plt.ylabel('Test 1')\n",
        "plt.legend(loc=\"upper right\")\n",
        "plt.show()"
      ],
      "metadata": {
        "id": "RzsMdrwv58tQ",
        "colab": {
          "base_uri": "https://localhost:8080/",
          "height": 449
        },
        "outputId": "7cec1d4b-2f7b-4c6d-d6fa-77c54a452595"
      },
      "execution_count": 4,
      "outputs": [
        {
          "output_type": "display_data",
          "data": {
            "text/plain": [
              "<Figure size 640x480 with 1 Axes>"
            ],
            "image/png": "[encoded data removed]"
          },
          "metadata": {}
        }
      ]
    },
    {
      "cell_type": "code",
      "source": [
        "#feature mapping\n",
        "def map_feature(X1,X2):\n",
        "  X1=np.atleast_1d(X1)\n",
        "  X2=np.atleast_1d(X2)\n",
        "  degree=6\n",
        "  out=[]\n",
        "  for i in range(1,degree+1):\n",
        "    for j in range(i+1):\n",
        "      out.append((X1**(i-j) * (X2**j)))\n",
        "  return np.stack(out, axis=1)"
      ],
      "metadata": {
        "id": "KhRBdaFi6nKo"
      },
      "execution_count": 5,
      "outputs": []
    },
    {
      "cell_type": "code",
      "source": [
        "print(\"Original shape of data:\", X_train.shape)\n",
        "\n",
        "mapped_X =  map_feature(X_train[:, 0], X_train[:, 1])\n",
        "print(\"Shape after feature mapping:\", mapped_X.shape)"
      ],
      "metadata": {
        "id": "PNS4kJfq6_m8",
        "colab": {
          "base_uri": "https://localhost:8080/"
        },
        "outputId": "97716d3a-2644-4b82-f59c-12509d423ffc"
      },
      "execution_count": 6,
      "outputs": [
        {
          "output_type": "stream",
          "name": "stdout",
          "text": [
            "Original shape of data: (118, 2)\n",
            "Shape after feature mapping: (118, 27)\n"
          ]
        }
      ]
    },
    {
      "cell_type": "code",
      "source": [
        "# @title DO NOT EDIT THIS CODE\n",
        "def sigmoid_test(target):\n",
        "    assert np.isclose(target(3.0), 0.9525741268224334), \"Failed for scalar input\"\n",
        "    assert np.allclose(target(np.array([2.5, 0])), [0.92414182, 0.5]), \"Failed for 1D array\"\n",
        "    assert np.allclose(target(np.array([[2.5, -2.5], [0, 1]])),\n",
        "                       [[0.92414182, 0.07585818], [0.5, 0.73105858]]), \"Failed for 2D array\"\n",
        "    print('\\033[92mTests passed!')"
      ],
      "metadata": {
        "id": "BqlxZOXoHh4z",
        "cellView": "form"
      },
      "execution_count": 7,
      "outputs": []
    },
    {
      "cell_type": "code",
      "source": [
        "def sigmoid(z):\n",
        "\n",
        "    s = 1 / (1 + np.exp(-z))\n",
        "    return s\n",
        "def sigmoid_test(sigmoid_func):\n",
        "    # Test on scalar values\n",
        "    z_scalar = 0\n",
        "    print(f\"Sigmoid of {z_scalar}: {sigmoid_func(z_scalar)}\")\n",
        "\n",
        "    # Test on numpy arrays\n",
        "    z_array = np.array([-2, -1, 0, 1, 2])\n",
        "    print(f\"Sigmoid of {z_array}: {sigmoid_func(z_array)}\")"
      ],
      "metadata": {
        "id": "wdgE-ay07C0P"
      },
      "execution_count": 8,
      "outputs": []
    },
    {
      "cell_type": "code",
      "source": [
        "sigmoid_test(sigmoid)\n"
      ],
      "metadata": {
        "id": "9XOlXXyxHnmB",
        "colab": {
          "base_uri": "https://localhost:8080/"
        },
        "outputId": "eef1b0be-a95d-4e3a-e194-d75f9ebd087f"
      },
      "execution_count": 9,
      "outputs": [
        {
          "output_type": "stream",
          "name": "stdout",
          "text": [
            "Sigmoid of 0: 0.5\n",
            "Sigmoid of [-2 -1  0  1  2]: [0.11920292 0.26894142 0.5        0.73105858 0.88079708]\n"
          ]
        }
      ]
    },
    {
      "cell_type": "code",
      "source": [
        "# @title DO NOT EDIT THIS CODE\n",
        "def compute_cost_test(target):\n",
        "    X = np.array([[0, 0, 0, 0]]).T\n",
        "    y = np.array([0, 0, 0, 0])\n",
        "    w = np.array([0])\n",
        "    b = 1\n",
        "    result = target(X, y, w, b)\n",
        "    if math.isinf(result):\n",
        "        raise ValueError(\"Did you get the sigmoid of z_wb?\")\n",
        "\n",
        "    np.random.seed(17)\n",
        "    X = np.random.randn(5, 2)\n",
        "    y = np.array([1, 0, 0, 1, 1])\n",
        "    w = np.random.randn(2)\n",
        "    b = 0\n",
        "    result = target(X, y, w, b)\n",
        "    assert np.isclose(result, 2.15510667), f\"Wrong output. Expected: {2.15510667} got: {result}\"\n",
        "\n",
        "    X = np.random.randn(4, 3)\n",
        "    y = np.array([1, 1, 0, 0])\n",
        "    w = np.random.randn(3)\n",
        "    b = 0\n",
        "\n",
        "    result = target(X, y, w, b)\n",
        "    assert np.isclose(result, 0.80709376), f\"Wrong output. Expected: {0.80709376} got: {result}\"\n",
        "\n",
        "    X = np.random.randn(4, 3)\n",
        "    y = np.array([1, 0,1, 0])\n",
        "    w = np.random.randn(3)\n",
        "    b = 3\n",
        "    result = target(X, y, w, b)\n",
        "    assert np.isclose(result, 0.4529660647), f\"Wrong output. Expected: {0.4529660647} got: {result}. Did you inizialized z_wb = b?\"\n",
        "\n",
        "    print('\\033[92mTests passed!')"
      ],
      "metadata": {
        "id": "QLqfyxPrH-v-",
        "cellView": "form"
      },
      "execution_count": 10,
      "outputs": []
    },
    {
      "cell_type": "code",
      "source": [
        "def compute_cost(X, y, w, b, lambda_=1):\n",
        "\n",
        "    m = X.shape[0]  # Number of training examples\n",
        "    z = np.dot(X, w) + b  # Linear combination of weights and input\n",
        "\n",
        "    # Compute sigmoid of z\n",
        "    y_pred = sigmoid(z)\n",
        "\n",
        "    # Compute cost function (binary cross-entropy)\n",
        "    cost = (-1 / m) * np.sum(y * np.log(y_pred) + (1 - y) * np.log(1 - y_pred))\n",
        "\n",
        "    # Add regularization term to the cost\n",
        "    regularization_term = (lambda_ / (2 * m)) * np.sum(w**2)\n",
        "    total_cost = cost + regularization_term\n",
        "\n",
        "    return total_cost\n",
        "\n",
        "def compute_cost_test(cost_func):\n",
        "    # Example data\n",
        "    X = np.array([[1, 2, 3], [4, 5, 6], [7, 8, 9]])\n",
        "    y = np.array([1, 0, 1])\n",
        "    w = np.array([0.1, 0.2, 0.3])\n",
        "    b = 0.5\n",
        "\n",
        "    # Compute cost using the provided cost function\n",
        "    cost = cost_func(X, y, w, b)\n",
        "    print(f\"Cost computed: {cost}\")"
      ],
      "metadata": {
        "id": "PRIqcpJ17MzH"
      },
      "execution_count": 11,
      "outputs": []
    },
    {
      "cell_type": "code",
      "source": [
        "test_w = np.array([0.2, 0.2])\n",
        "test_b = -24.\n",
        "cost = compute_cost(X_train, y_train, test_w, test_b)\n",
        "\n",
        "print('Cost at test w,b: {:.3f}'.format(cost))\n",
        "\n",
        "\n",
        "# test\n",
        "compute_cost_test(compute_cost)"
      ],
      "metadata": {
        "id": "MPOvLzL5H5-5",
        "colab": {
          "base_uri": "https://localhost:8080/"
        },
        "outputId": "c9756928-a851-4e42-89b8-a7a018e1823b"
      },
      "execution_count": 12,
      "outputs": [
        {
          "output_type": "stream",
          "name": "stdout",
          "text": [
            "Cost at test w,b: 11.777\n",
            "Cost computed: 1.3126293491624368\n"
          ]
        }
      ]
    },
    {
      "cell_type": "code",
      "source": [
        "def compute_cost_reg(X, y, w, b, lambda_=1):\n",
        "\n",
        "    m = X.shape[0]  # Number of training examples\n",
        "    z = np.dot(X, w) + b  # Linear combination of weights and input\n",
        "\n",
        "    # Compute sigmoid of z\n",
        "    y_pred = sigmoid(z)\n",
        "\n",
        "    # Compute cost function (binary cross-entropy)\n",
        "    cost = (-1 / m) * np.sum(y * np.log(y_pred) + (1 - y) * np.log(1 - y_pred))\n",
        "\n",
        "    # Regularization term\n",
        "    regularization_term = (lambda_ / (2 * m)) * np.sum(w**2)\n",
        "\n",
        "    # Total regularized cost\n",
        "    total_cost = cost + regularization_term\n",
        "\n",
        "    return total_cost\n",
        "\n",
        "def compute_cost_reg_test(cost_func):\n",
        "    # Example data\n",
        "    X = np.array([[1, 2, 3], [4, 5, 6], [7, 8, 9]])\n",
        "    y = np.array([1, 0, 1])\n",
        "    w = np.array([0.1, 0.2, 0.3])\n",
        "    b = 0.5\n",
        "\n",
        "    # Compute regularized cost using the provided cost function\n",
        "    cost = cost_func(X, y, w, b)\n",
        "    print(f\"Regularized Cost computed: {cost}\")"
      ],
      "metadata": {
        "id": "ULkWUBkO7ffh"
      },
      "execution_count": 13,
      "outputs": []
    },
    {
      "cell_type": "code",
      "source": [
        "# @title DO NOT EDIT THIS CODE\n",
        "def compute_cost_reg_test(target):\n",
        "    np.random.seed(1)\n",
        "    w = np.random.randn(3)\n",
        "    b = 0.4\n",
        "    X = np.random.randn(6, 3)\n",
        "    y = np.array([0, 1, 1, 0, 1, 1])\n",
        "    lambda_ = 0.1\n",
        "    expected_output = target(X, y, w, b, lambda_)\n",
        "\n",
        "    assert np.isclose(expected_output, 0.5469746792761936), f\"Wrong output. Expected: {0.5469746792761936} got:{expected_output}\"\n",
        "\n",
        "    w = np.random.randn(5)\n",
        "    b = -0.6\n",
        "    X = np.random.randn(8, 5)\n",
        "    y = np.array([1, 0, 1, 0, 0, 1, 0, 1])\n",
        "    lambda_ = 0.01\n",
        "    output = target(X, y, w, b, lambda_)\n",
        "    assert np.isclose(output, 1.2608591964119995), f\"Wrong output. Expected: {1.2608591964119995} got:{output}\"\n",
        "\n",
        "    w = np.array([2, 2, 2, 2, 2])\n",
        "    b = 0\n",
        "    X = np.zeros((8, 5))\n",
        "    y = np.array([0.5] * 8)\n",
        "    lambda_ = 3\n",
        "    output = target(X, y, w, b, lambda_)\n",
        "    expected = -np.log(0.5) + 3. / (2. * 8.) * 20.\n",
        "    assert np.isclose(output, expected), f\"Wrong output. Expected: {expected} got:{output}\"\n",
        "\n",
        "    print('\\033[92mAll tests passed!')"
      ],
      "metadata": {
        "id": "OhFbPakDGKQj",
        "cellView": "form"
      },
      "execution_count": 14,
      "outputs": []
    },
    {
      "cell_type": "code",
      "source": [
        "X_mapped = map_feature(X_train[:, 0], X_train[:, 1])\n",
        "np.random.seed(1)\n",
        "initial_w = np.random.rand(X_mapped.shape[1]) - 0.5\n",
        "initial_b = 0.5\n",
        "lambda_ = 0.5\n",
        "cost = compute_cost_reg(X_mapped, y_train, initial_w, initial_b, lambda_)\n",
        "\n",
        "print(\"Regularised cost :\", cost)\n",
        "\n",
        "#test\n",
        "compute_cost_reg_test(compute_cost_reg)"
      ],
      "metadata": {
        "id": "jO14e7OD7syR",
        "colab": {
          "base_uri": "https://localhost:8080/"
        },
        "outputId": "eab652b9-4b5e-402d-b616-26e851068859"
      },
      "execution_count": 15,
      "outputs": [
        {
          "output_type": "stream",
          "name": "stdout",
          "text": [
            "Regularised cost : 0.6618252552483951\n",
            "\u001b[92mAll tests passed!\n"
          ]
        }
      ]
    },
    {
      "cell_type": "code",
      "source": [
        "# @title DO NOT EDIT THIS CODE\n",
        "def compute_gradient_test(target):\n",
        "    np.random.seed(1)\n",
        "    X = np.random.randn(7, 3)\n",
        "    y = np.array([1, 0, 1, 0, 1, 1, 0])\n",
        "    test_w = np.array([1, 0.5, -0.35])\n",
        "    test_b = 1.7\n",
        "    dj_db, dj_dw  = target(X, y, test_w, test_b)\n",
        "\n",
        "    assert np.isclose(dj_db, 0.28936094), f\"Wrong value for dj_db. Expected: {0.28936094} got: {dj_db}\"\n",
        "    assert dj_dw.shape == test_w.shape, f\"Wrong shape for dj_dw. Expected: {test_w.shape} got: {dj_dw.shape}\"\n",
        "    assert np.allclose(dj_dw, [-0.11999166, 0.41498775, -0.71968405]), f\"Wrong values for dj_dw. Got: {dj_dw}\"\n",
        "\n",
        "    print('\\033[92mTests passed!')"
      ],
      "metadata": {
        "id": "plQBUPM2IRei",
        "cellView": "form"
      },
      "execution_count": 16,
      "outputs": []
    },
    {
      "cell_type": "code",
      "source": [
        "def compute_gradient(X, y, w, b, lambda_=None):\n",
        "\n",
        "\n",
        "    m = X.shape[0]  # Number of training examples\n",
        "\n",
        "    # Compute predicted labels\n",
        "    z = np.dot(X, w) + b\n",
        "    y_pred = sigmoid(z)\n",
        "\n",
        "    # Compute gradients\n",
        "    dj_dz = y_pred - y\n",
        "    dj_db = (1 / m) * np.sum(dj_dz)\n",
        "    dj_dw = (1 / m) * np.dot(X.T, dj_dz)\n",
        "\n",
        "    # Add regularization terms if lambda_ is specified\n",
        "    if lambda_ is not None:\n",
        "        dj_dw += (lambda_ / m) * w\n",
        "\n",
        "    return dj_db, dj_dw\n",
        "def compute_gradient_test(grad_func):\n",
        "    # Example data\n",
        "    X = np.array([[1, 2, 3], [4, 5, 6], [7, 8, 9]])\n",
        "    y = np.array([1, 0, 1])\n",
        "    w = np.array([0.1, 0.2, 0.3])\n",
        "    b = 0.5\n",
        "\n",
        "    # Compute gradients using the provided gradient function\n",
        "    dj_db, dj_dw = grad_func(X, y, w, b)\n",
        "    print(f\"Gradient of b computed: {dj_db}\")\n",
        "    print(f\"Gradient of w computed: {dj_dw}\")"
      ],
      "metadata": {
        "id": "v27SzhYX8-ug"
      },
      "execution_count": 17,
      "outputs": []
    },
    {
      "cell_type": "code",
      "source": [
        "test_w = np.array([ 0.2, -0.5])\n",
        "test_b = -24\n",
        "dj_db, dj_dw  = compute_gradient(X_train, y_train, test_w, test_b)\n",
        "\n",
        "print('dj_db at test_w:', dj_db)\n",
        "print('dj_dw at test_w:', dj_dw.tolist())\n",
        "\n",
        "# test\n",
        "compute_gradient_test(compute_gradient)"
      ],
      "metadata": {
        "id": "WLmFL2yuIPUA",
        "colab": {
          "base_uri": "https://localhost:8080/"
        },
        "outputId": "994f1cd2-584c-4ad8-f45f-b3e1289ee5d6"
      },
      "execution_count": 18,
      "outputs": [
        {
          "output_type": "stream",
          "name": "stdout",
          "text": [
            "dj_db at test_w: -0.4915254236924827\n",
            "dj_dw at test_w: [-0.008601361012465381, -0.09147300847306207]\n",
            "Gradient of b computed: 0.28056478883447894\n",
            "Gradient of w computed: [1.24829749 1.52886228 1.80942707]\n"
          ]
        }
      ]
    },
    {
      "cell_type": "code",
      "source": [
        "def compute_gradient_reg(X, y, w, b, lambda_=1):\n",
        "\n",
        "    m = X.shape[0]  # Number of training examples\n",
        "\n",
        "    # Compute predicted labels\n",
        "    z = np.dot(X, w) + b\n",
        "    y_pred = sigmoid(z)\n",
        "\n",
        "    # Compute gradients\n",
        "    dj_dz = y_pred - y\n",
        "    dj_db = (1 / m) * np.sum(dj_dz)\n",
        "    dj_dw = (1 / m) * np.dot(X.T, dj_dz)\n",
        "\n",
        "    # Add regularization terms\n",
        "    dj_dw += (lambda_ / m) * w\n",
        "\n",
        "    return dj_db, dj_dw\n",
        "def compute_gradient_reg_test(grad_func):\n",
        "    # Example data\n",
        "    X = np.array([[1, 2, 3], [4, 5, 6], [7, 8, 9]])\n",
        "    y = np.array([1, 0, 1])\n",
        "    w = np.array([0.1, 0.2, 0.3])\n",
        "    b = 0.5\n",
        "\n",
        "    # Compute regularized gradients using the provided gradient function\n",
        "    dj_db, dj_dw = grad_func(X, y, w, b)\n",
        "    print(f\"Regularized Gradient of b computed: {dj_db}\")\n",
        "    print(f\"Regularized Gradient of w computed: {dj_dw}\")"
      ],
      "metadata": {
        "id": "TGfUArz09TMl"
      },
      "execution_count": 19,
      "outputs": []
    },
    {
      "cell_type": "code",
      "source": [
        "# @title DO NOT EDIT THIS CODE\n",
        "def compute_gradient_reg_test(target):\n",
        "    np.random.seed(1)\n",
        "    w = np.random.randn(5)\n",
        "    b = 0.2\n",
        "    X = np.random.randn(7, 5)\n",
        "    y = np.array([0, 1, 1, 0, 1, 1, 0])\n",
        "    lambda_ = 0.1\n",
        "    expected1 = (-0.1506447567869257, np.array([ 0.19530838, -0.00632206,  0.19687367,  0.15741161,  0.02791437]))\n",
        "    dj_db, dj_dw = target(X, y, w, b, lambda_)\n",
        "\n",
        "    assert np.isclose(dj_db, expected1[0]), f\"Wrong dj_db. Expected: {expected1[0]} got: {dj_db}\"\n",
        "    assert np.allclose(dj_dw, expected1[1]), f\"Wrong dj_dw. Expected: {expected1[1]} got: {dj_dw}\"\n",
        "\n",
        "\n",
        "    w = np.random.randn(7)\n",
        "    b = 0\n",
        "    X = np.random.randn(7, 7)\n",
        "    y = np.array([1, 0, 0, 0, 1, 1, 0])\n",
        "    lambda_ = 0\n",
        "    expected2 = (0.02660329857573818, np.array([ 0.23567643, -0.06921029, -0.19705212, -0.0002884 ,  0.06490588,\n",
        "        0.26948175,  0.10777992]))\n",
        "    dj_db, dj_dw = target(X, y, w, b, lambda_)\n",
        "    assert np.isclose(dj_db, expected2[0]), f\"Wrong dj_db. Expected: {expected2[0]} got: {dj_db}\"\n",
        "    assert np.allclose(dj_dw, expected2[1]), f\"Wrong dj_dw. Expected: {expected2[1]} got: {dj_dw}\"\n",
        "\n",
        "    print('\\033[92mTests passed!')"
      ],
      "metadata": {
        "id": "KNRCWIc8G2cp",
        "cellView": "form"
      },
      "execution_count": 20,
      "outputs": []
    },
    {
      "cell_type": "code",
      "source": [
        "X_mapped = map_feature(X_train[:, 0], X_train[:, 1])\n",
        "np.random.seed(1)\n",
        "initial_w  = np.random.rand(X_mapped.shape[1]) - 0.5\n",
        "initial_b = 0.5\n",
        "\n",
        "lambda_ = 0.5\n",
        "dj_db, dj_dw = compute_gradient_reg(X_mapped, y_train, initial_w, initial_b, lambda_)\n",
        "\n",
        "print(f\"dj_db: {dj_db}\" )\n",
        "#test\n",
        "compute_gradient_reg_test(compute_gradient_reg)"
      ],
      "metadata": {
        "id": "3_of_BHJ9hEc",
        "colab": {
          "base_uri": "https://localhost:8080/"
        },
        "outputId": "0fa95106-8edf-430f-d320-3ef49b46a9d9"
      },
      "execution_count": 21,
      "outputs": [
        {
          "output_type": "stream",
          "name": "stdout",
          "text": [
            "dj_db: 0.07138288792343654\n",
            "\u001b[92mTests passed!\n"
          ]
        }
      ]
    },
    {
      "cell_type": "code",
      "source": [
        "np.random.seed(1)\n",
        "initial_w = np.random.rand(X_mapped.shape[1])-0.5\n",
        "initial_b = 1.\n",
        "lambda_ = 0.0001\n",
        "iterations = 10000\n",
        "alpha = 0.1\n",
        "def gradient_descent(X_mapped, y_train, initial_w, initial_b,\n",
        "                     compute_cost_reg, compute_gradient_reg,\n",
        "                     alpha, iterations, lambda_):\n",
        "\n",
        "    w = initial_w\n",
        "    b = initial_b\n",
        "    J_history = []  # To store the cost at each iteration\n",
        "\n",
        "    for i in range(iterations):\n",
        "        # Compute cost and gradient with regularization\n",
        "        cost = compute_cost_reg(X_mapped, y_train, w, b, lambda_)\n",
        "        dj_db, dj_dw = compute_gradient_reg(X_mapped, y_train, w, b, lambda_)\n",
        "\n",
        "        # Update parameters\n",
        "        w -= alpha * dj_dw\n",
        "        b -= alpha * dj_db\n",
        "\n",
        "        # Append current cost to history\n",
        "        J_history.append(cost)\n",
        "\n",
        "        # Print cost every 100 iterations\n",
        "        if i % 100 == 0:\n",
        "            print(f\"Iteration {i}: Cost = {cost}\")\n",
        "\n",
        "    return w, b, J_history,_\n",
        "\n",
        "\n",
        "\n",
        "w,b, J_history,_ = gradient_descent(X_mapped, y_train, initial_w, initial_b,\n",
        "                                    compute_cost_reg, compute_gradient_reg,\n",
        "                                    alpha, iterations, lambda_)"
      ],
      "metadata": {
        "id": "c5y3Nb9Z_SC4",
        "colab": {
          "base_uri": "https://localhost:8080/"
        },
        "outputId": "a45f8749-95ee-4ef3-b477-1e6cc217c85b"
      },
      "execution_count": 22,
      "outputs": [
        {
          "output_type": "stream",
          "name": "stdout",
          "text": [
            "Iteration 0: Cost = 0.7215803069185565\n",
            "Iteration 100: Cost = 0.5872608259692129\n",
            "Iteration 200: Cost = 0.5568327454536812\n",
            "Iteration 300: Cost = 0.5327319294068457\n",
            "Iteration 400: Cost = 0.5130740701425207\n",
            "Iteration 500: Cost = 0.4967218855302554\n",
            "Iteration 600: Cost = 0.4828979409992906\n",
            "Iteration 700: Cost = 0.47105262210947246\n",
            "Iteration 800: Cost = 0.460786365004741\n",
            "Iteration 900: Cost = 0.45180161386936857\n",
            "Iteration 1000: Cost = 0.4438720869063885\n",
            "Iteration 1100: Cost = 0.43682251177602816\n",
            "Iteration 1200: Cost = 0.4305149043888356\n",
            "Iteration 1300: Cost = 0.42483905759564067\n",
            "Iteration 1400: Cost = 0.4197058089181752\n",
            "Iteration 1500: Cost = 0.4150421850858438\n",
            "Iteration 1600: Cost = 0.41078784017243775\n",
            "Iteration 1700: Cost = 0.4068924019205789\n",
            "Iteration 1800: Cost = 0.4033134664512011\n",
            "Iteration 1900: Cost = 0.40001506305248835\n",
            "Iteration 2000: Cost = 0.3969664646486676\n",
            "Iteration 2100: Cost = 0.3941412558347837\n",
            "Iteration 2200: Cost = 0.3915165951835855\n",
            "Iteration 2300: Cost = 0.38907262576137347\n",
            "Iteration 2400: Cost = 0.3867919999176721\n",
            "Iteration 2500: Cost = 0.3846594930606542\n",
            "Iteration 2600: Cost = 0.38266168737042605\n",
            "Iteration 2700: Cost = 0.38078671095704664\n",
            "Iteration 2800: Cost = 0.3790240213305752\n",
            "Iteration 2900: Cost = 0.37736422455494883\n",
            "Iteration 3000: Cost = 0.3757989233420655\n",
            "Iteration 3100: Cost = 0.37432058877345464\n",
            "Iteration 3200: Cost = 0.3729224514328823\n",
            "Iteration 3300: Cost = 0.3715984085794637\n",
            "Iteration 3400: Cost = 0.3703429446493052\n",
            "Iteration 3500: Cost = 0.3691510628897757\n",
            "Iteration 3600: Cost = 0.36801822633783887\n",
            "Iteration 3700: Cost = 0.3669403066774554\n",
            "Iteration 3800: Cost = 0.3659135397697566\n",
            "Iteration 3900: Cost = 0.36493448685769164\n",
            "Iteration 4000: Cost = 0.36400000061507787\n",
            "Iteration 4100: Cost = 0.36310719534673097\n",
            "Iteration 4200: Cost = 0.36225342075810274\n",
            "Iteration 4300: Cost = 0.3614362388046023\n",
            "Iteration 4400: Cost = 0.3606534032064613\n",
            "Iteration 4500: Cost = 0.359902841277694\n",
            "Iteration 4600: Cost = 0.3591826377698704\n",
            "Iteration 4700: Cost = 0.35849102047497555\n",
            "Iteration 4800: Cost = 0.35782634736816077\n",
            "Iteration 4900: Cost = 0.3571870951019187\n",
            "Iteration 5000: Cost = 0.3565718486891677\n",
            "Iteration 5100: Cost = 0.35597929223471286\n",
            "Iteration 5200: Cost = 0.35540820059323386\n",
            "Iteration 5300: Cost = 0.35485743184787927\n",
            "Iteration 5400: Cost = 0.35432592051716005\n",
            "Iteration 5500: Cost = 0.35381267140950956\n",
            "Iteration 5600: Cost = 0.353316754054918\n",
            "Iteration 5700: Cost = 0.35283729765169275\n",
            "Iteration 5800: Cost = 0.35237348647387595\n",
            "Iteration 5900: Cost = 0.35192455569132197\n",
            "Iteration 6000: Cost = 0.35148978756005855\n",
            "Iteration 6100: Cost = 0.35106850794544686\n",
            "Iteration 6200: Cost = 0.3506600831449196\n",
            "Iteration 6300: Cost = 0.35026391698080145\n",
            "Iteration 6400: Cost = 0.3498794481369826\n",
            "Iteration 6500: Cost = 0.34950614771607624\n",
            "Iteration 6600: Cost = 0.34914351699620677\n",
            "Iteration 6700: Cost = 0.3487910853687936\n",
            "Iteration 6800: Cost = 0.3484484084406486\n",
            "Iteration 6900: Cost = 0.3481150662854317\n",
            "Iteration 7000: Cost = 0.34779066183104285\n",
            "Iteration 7100: Cost = 0.34747481937087654\n",
            "Iteration 7200: Cost = 0.3471671831880778\n",
            "Iteration 7300: Cost = 0.3468674162830016\n",
            "Iteration 7400: Cost = 0.346575199195037\n",
            "Iteration 7500: Cost = 0.34629022891080574\n",
            "Iteration 7600: Cost = 0.346012217851504\n",
            "Iteration 7700: Cost = 0.34574089293283927\n",
            "Iteration 7800: Cost = 0.34547599469161955\n",
            "Iteration 7900: Cost = 0.34521727647360173\n",
            "Iteration 8000: Cost = 0.34496450367769144\n",
            "Iteration 8100: Cost = 0.34471745305203627\n",
            "Iteration 8200: Cost = 0.34447591203794203\n",
            "Iteration 8300: Cost = 0.34423967815790496\n",
            "Iteration 8400: Cost = 0.3440085584443755\n",
            "Iteration 8500: Cost = 0.3437823689061595\n",
            "Iteration 8600: Cost = 0.34356093402962806\n",
            "Iteration 8700: Cost = 0.343344086312143\n",
            "Iteration 8800: Cost = 0.3431316658253282\n",
            "Iteration 8900: Cost = 0.34292351980600516\n",
            "Iteration 9000: Cost = 0.34271950227279635\n",
            "Iteration 9100: Cost = 0.34251947366655866\n",
            "Iteration 9200: Cost = 0.34232330051295684\n",
            "Iteration 9300: Cost = 0.3421308551056249\n",
            "Iteration 9400: Cost = 0.34194201520848033\n",
            "Iteration 9500: Cost = 0.3417566637758725\n",
            "Iteration 9600: Cost = 0.3415746886893485\n",
            "Iteration 9700: Cost = 0.34139598250990766\n",
            "Iteration 9800: Cost = 0.3412204422447119\n",
            "Iteration 9900: Cost = 0.3410479691272842\n"
          ]
        }
      ]
    },
    {
      "cell_type": "code",
      "source": [
        "#plot decision boundary\n",
        "def plot_decision_boundary(w,b,X,y):\n",
        "\n",
        "    plot_data(X[:, 0:2], y)\n",
        "\n",
        "    if X.shape[1] <= 2:\n",
        "        plot_x = np.array([min(X[:, 0]), max(X[:, 0])])\n",
        "        plot_y = (-1. / w[1]) * (w[0] * plot_x + b)\n",
        "\n",
        "        plt.plot(plot_x, plot_y, c=\"b\")\n",
        "\n",
        "    else:\n",
        "        u = np.linspace(-1, 1.5, 50)\n",
        "        v = np.linspace(-1, 1.5, 50)\n",
        "\n",
        "        z = np.zeros((len(u), len(v)))\n",
        "\n",
        "\n",
        "        for i in range(len(u)):\n",
        "            for j in range(len(v)):\n",
        "                z[i,j] = sigmoid(np.dot(map_feature(u[i], v[j]), w) + b)\n",
        "\n",
        "\n",
        "        z = z.T\n",
        "\n",
        "\n",
        "        plt.contour(u,v,z, levels = [0.5], colors=\"g\")"
      ],
      "metadata": {
        "id": "cqSOrJsTAf9p"
      },
      "execution_count": 23,
      "outputs": []
    },
    {
      "cell_type": "code",
      "source": [
        "plot_decision_boundary(w, b, X_mapped, y_train)"
      ],
      "metadata": {
        "id": "etir_m_AAyYC",
        "colab": {
          "base_uri": "https://localhost:8080/",
          "height": 490
        },
        "outputId": "ab8e6db3-43cd-4b29-c445-c8d288ecc231"
      },
      "execution_count": 24,
      "outputs": [
        {
          "output_type": "stream",
          "name": "stderr",
          "text": [
            "<ipython-input-23-1a0f4325d43d>:21: DeprecationWarning: Conversion of an array with ndim > 0 to a scalar is deprecated, and will error in future. Ensure you extract a single element from your array before performing this operation. (Deprecated NumPy 1.25.)\n",
            "  z[i,j] = sigmoid(np.dot(map_feature(u[i], v[j]), w) + b)\n"
          ]
        },
        {
          "output_type": "display_data",
          "data": {
            "text/plain": [
              "<Figure size 640x480 with 1 Axes>"
            ],
            "image/png": "[encoded data removed]"
          },
          "metadata": {}
        }
      ]
    },
    {
      "cell_type": "code",
      "source": [
        "import numpy as np\n",
        "\n",
        "def predict(X, w, b):\n",
        "\n",
        "    m, n = X.shape\n",
        "    p = np.zeros(m)\n",
        "\n",
        "    # Compute predicted probabilities\n",
        "    z = np.dot(X, w) + b\n",
        "    y_pred = 1 / (1 + np.exp(-z))\n",
        "\n",
        "    # Convert probabilities to binary predictions (0 or 1)\n",
        "    p[y_pred >= 0.5] = 1\n",
        "\n",
        "    return p.astype(int)\n",
        "\n"
      ],
      "metadata": {
        "id": "MD2Dup4OA1ew"
      },
      "execution_count": 25,
      "outputs": []
    },
    {
      "cell_type": "code",
      "source": [
        "p = predict(X_mapped, w, b)\n",
        "\n",
        "print('Accuracy of training model: %f'%(np.mean(p == y_train) * 100))"
      ],
      "metadata": {
        "id": "TAhIPFIsBTjk",
        "colab": {
          "base_uri": "https://localhost:8080/"
        },
        "outputId": "675c77f5-b218-4866-a384-f3d6e4152800"
      },
      "execution_count": 26,
      "outputs": [
        {
          "output_type": "stream",
          "name": "stdout",
          "text": [
            "Accuracy of training model: 83.898305\n"
          ]
        }
      ]
    }
  ]
}